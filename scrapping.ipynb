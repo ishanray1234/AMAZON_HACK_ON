{
 "cells": [
  {
   "cell_type": "code",
   "execution_count": 3,
   "metadata": {},
   "outputs": [],
   "source": [
    "from selenium.webdriver import Chrome \n",
    "from selenium.webdriver.chrome.options import Options\n",
    "from selenium.webdriver.common.by import By\n",
    "from selenium.webdriver.common.by import By\n",
    "from selenium.webdriver.support.ui import WebDriverWait\n",
    "from selenium.webdriver.support import expected_conditions as EC\n",
    "import time"
   ]
  },
  {
   "cell_type": "code",
   "execution_count": 2,
   "metadata": {},
   "outputs": [],
   "source": [
    "import requests\n",
    "from bs4 import BeautifulSoup\n",
    "from fake_useragent import UserAgent  # fake user agent library\n"
   ]
  },
  {
   "cell_type": "code",
   "execution_count": 18,
   "metadata": {},
   "outputs": [],
   "source": [
    "products = [\n",
    "    \"Furniture\",\n",
    "    \"Shirt\",\n",
    "    \"Shoes\",\n",
    "    \"Headphones\",\n",
    "    \"Jeans\",\n",
    "    \"Watch\",\n",
    "    \"Books\",\n",
    "    \"Backpack\",\n",
    "    \"Gaming Console\",\n",
    "    \"Sunglasses\",\n",
    "    \"Cookware Set\",\n",
    "    \"Jewelry\",\n",
    "    \"Toys\",\n",
    "    \"Guitar\",\n",
    "    \"Dress\",\n",
    "    \"Hiking Boots\"\n",
    "]"
   ]
  },
  {
   "cell_type": "code",
   "execution_count": 19,
   "metadata": {},
   "outputs": [
    {
     "name": "stdout",
     "output_type": "stream",
     "text": [
      "hi\n",
      "hi\n",
      "hi\n",
      "hi\n",
      "hi\n",
      "hi\n",
      "hi\n",
      "hi\n",
      "hi\n",
      "hi\n",
      "hi\n",
      "hi\n",
      "hi\n",
      "hi\n",
      "hi\n",
      "hi\n",
      "hi\n"
     ]
    },
    {
     "ename": "WebDriverException",
     "evalue": "Message: disconnected: Unable to receive message from renderer\n  (failed to check if window was closed: disconnected: not connected to DevTools)\n  (Session info: chrome=117.0.5938.134)\nStacktrace:\n\tGetHandleVerifier [0x00007FF63CEB7D12+55474]\n\t(No symbol) [0x00007FF63CE277C2]\n\t(No symbol) [0x00007FF63CCDE0EB]\n\t(No symbol) [0x00007FF63CCCC6AA]\n\t(No symbol) [0x00007FF63CCCC5F3]\n\t(No symbol) [0x00007FF63CCCBEC5]\n\t(No symbol) [0x00007FF63CCE8813]\n\t(No symbol) [0x00007FF63CD57F59]\n\t(No symbol) [0x00007FF63CD3EF33]\n\t(No symbol) [0x00007FF63CD13D41]\n\t(No symbol) [0x00007FF63CD14F84]\n\tGetHandleVerifier [0x00007FF63D21B762+3609346]\n\tGetHandleVerifier [0x00007FF63D271A80+3962400]\n\tGetHandleVerifier [0x00007FF63D269F0F+3930799]\n\tGetHandleVerifier [0x00007FF63CF53CA6+694342]\n\t(No symbol) [0x00007FF63CE32218]\n\t(No symbol) [0x00007FF63CE2E484]\n\t(No symbol) [0x00007FF63CE2E5B2]\n\t(No symbol) [0x00007FF63CE1EE13]\n\tBaseThreadInitThunk [0x00007FF9B7DF257D+29]\n\tRtlUserThreadStart [0x00007FF9B900AA68+40]\n",
     "output_type": "error",
     "traceback": [
      "\u001b[1;31m---------------------------------------------------------------------------\u001b[0m",
      "\u001b[1;31mWebDriverException\u001b[0m                        Traceback (most recent call last)",
      "\u001b[1;32mc:\\Users\\ISHAN RAY\\OneDrive\\Desktop\\Github repos\\AMAZON_HACK_ON\\scrapping.ipynb Cell 4\u001b[0m line \u001b[0;36m9\n\u001b[0;32m      <a href='vscode-notebook-cell:/c%3A/Users/ISHAN%20RAY/OneDrive/Desktop/Github%20repos/AMAZON_HACK_ON/scrapping.ipynb#W3sZmlsZQ%3D%3D?line=6'>7</a>\u001b[0m \u001b[39mprint\u001b[39m(\u001b[39m\"\u001b[39m\u001b[39mhi\u001b[39m\u001b[39m\"\u001b[39m)\n\u001b[0;32m      <a href='vscode-notebook-cell:/c%3A/Users/ISHAN%20RAY/OneDrive/Desktop/Github%20repos/AMAZON_HACK_ON/scrapping.ipynb#W3sZmlsZQ%3D%3D?line=7'>8</a>\u001b[0m url \u001b[39m=\u001b[39m \u001b[39mf\u001b[39m\u001b[39m'\u001b[39m\u001b[39mhttps://www.flipkart.com/search?q=\u001b[39m\u001b[39m{\u001b[39;00mx\u001b[39m}\u001b[39;00m\u001b[39m&page=\u001b[39m\u001b[39m{\u001b[39;00mi\u001b[39m}\u001b[39;00m\u001b[39m'\u001b[39m\n\u001b[1;32m----> <a href='vscode-notebook-cell:/c%3A/Users/ISHAN%20RAY/OneDrive/Desktop/Github%20repos/AMAZON_HACK_ON/scrapping.ipynb#W3sZmlsZQ%3D%3D?line=8'>9</a>\u001b[0m driver\u001b[39m.\u001b[39;49mget(url)\n\u001b[0;32m     <a href='vscode-notebook-cell:/c%3A/Users/ISHAN%20RAY/OneDrive/Desktop/Github%20repos/AMAZON_HACK_ON/scrapping.ipynb#W3sZmlsZQ%3D%3D?line=9'>10</a>\u001b[0m soup\u001b[39m=\u001b[39mBeautifulSoup(driver\u001b[39m.\u001b[39mpage_source,\u001b[39m'\u001b[39m\u001b[39mlxml\u001b[39m\u001b[39m'\u001b[39m)\n\u001b[0;32m     <a href='vscode-notebook-cell:/c%3A/Users/ISHAN%20RAY/OneDrive/Desktop/Github%20repos/AMAZON_HACK_ON/scrapping.ipynb#W3sZmlsZQ%3D%3D?line=10'>11</a>\u001b[0m soups\u001b[39m.\u001b[39mappend(soup)\n",
      "File \u001b[1;32mc:\\Python311\\Lib\\site-packages\\selenium\\webdriver\\remote\\webdriver.py:353\u001b[0m, in \u001b[0;36mWebDriver.get\u001b[1;34m(self, url)\u001b[0m\n\u001b[0;32m    351\u001b[0m \u001b[39mdef\u001b[39;00m \u001b[39mget\u001b[39m(\u001b[39mself\u001b[39m, url: \u001b[39mstr\u001b[39m) \u001b[39m-\u001b[39m\u001b[39m>\u001b[39m \u001b[39mNone\u001b[39;00m:\n\u001b[0;32m    352\u001b[0m \u001b[39m    \u001b[39m\u001b[39m\"\"\"Loads a web page in the current browser session.\"\"\"\u001b[39;00m\n\u001b[1;32m--> 353\u001b[0m     \u001b[39mself\u001b[39;49m\u001b[39m.\u001b[39;49mexecute(Command\u001b[39m.\u001b[39;49mGET, {\u001b[39m\"\u001b[39;49m\u001b[39murl\u001b[39;49m\u001b[39m\"\u001b[39;49m: url})\n",
      "File \u001b[1;32mc:\\Python311\\Lib\\site-packages\\selenium\\webdriver\\remote\\webdriver.py:344\u001b[0m, in \u001b[0;36mWebDriver.execute\u001b[1;34m(self, driver_command, params)\u001b[0m\n\u001b[0;32m    342\u001b[0m response \u001b[39m=\u001b[39m \u001b[39mself\u001b[39m\u001b[39m.\u001b[39mcommand_executor\u001b[39m.\u001b[39mexecute(driver_command, params)\n\u001b[0;32m    343\u001b[0m \u001b[39mif\u001b[39;00m response:\n\u001b[1;32m--> 344\u001b[0m     \u001b[39mself\u001b[39;49m\u001b[39m.\u001b[39;49merror_handler\u001b[39m.\u001b[39;49mcheck_response(response)\n\u001b[0;32m    345\u001b[0m     response[\u001b[39m\"\u001b[39m\u001b[39mvalue\u001b[39m\u001b[39m\"\u001b[39m] \u001b[39m=\u001b[39m \u001b[39mself\u001b[39m\u001b[39m.\u001b[39m_unwrap_value(response\u001b[39m.\u001b[39mget(\u001b[39m\"\u001b[39m\u001b[39mvalue\u001b[39m\u001b[39m\"\u001b[39m, \u001b[39mNone\u001b[39;00m))\n\u001b[0;32m    346\u001b[0m     \u001b[39mreturn\u001b[39;00m response\n",
      "File \u001b[1;32mc:\\Python311\\Lib\\site-packages\\selenium\\webdriver\\remote\\errorhandler.py:229\u001b[0m, in \u001b[0;36mErrorHandler.check_response\u001b[1;34m(self, response)\u001b[0m\n\u001b[0;32m    227\u001b[0m         alert_text \u001b[39m=\u001b[39m value[\u001b[39m\"\u001b[39m\u001b[39malert\u001b[39m\u001b[39m\"\u001b[39m]\u001b[39m.\u001b[39mget(\u001b[39m\"\u001b[39m\u001b[39mtext\u001b[39m\u001b[39m\"\u001b[39m)\n\u001b[0;32m    228\u001b[0m     \u001b[39mraise\u001b[39;00m exception_class(message, screen, stacktrace, alert_text)  \u001b[39m# type: ignore[call-arg]  # mypy is not smart enough here\u001b[39;00m\n\u001b[1;32m--> 229\u001b[0m \u001b[39mraise\u001b[39;00m exception_class(message, screen, stacktrace)\n",
      "\u001b[1;31mWebDriverException\u001b[0m: Message: disconnected: Unable to receive message from renderer\n  (failed to check if window was closed: disconnected: not connected to DevTools)\n  (Session info: chrome=117.0.5938.134)\nStacktrace:\n\tGetHandleVerifier [0x00007FF63CEB7D12+55474]\n\t(No symbol) [0x00007FF63CE277C2]\n\t(No symbol) [0x00007FF63CCDE0EB]\n\t(No symbol) [0x00007FF63CCCC6AA]\n\t(No symbol) [0x00007FF63CCCC5F3]\n\t(No symbol) [0x00007FF63CCCBEC5]\n\t(No symbol) [0x00007FF63CCE8813]\n\t(No symbol) [0x00007FF63CD57F59]\n\t(No symbol) [0x00007FF63CD3EF33]\n\t(No symbol) [0x00007FF63CD13D41]\n\t(No symbol) [0x00007FF63CD14F84]\n\tGetHandleVerifier [0x00007FF63D21B762+3609346]\n\tGetHandleVerifier [0x00007FF63D271A80+3962400]\n\tGetHandleVerifier [0x00007FF63D269F0F+3930799]\n\tGetHandleVerifier [0x00007FF63CF53CA6+694342]\n\t(No symbol) [0x00007FF63CE32218]\n\t(No symbol) [0x00007FF63CE2E484]\n\t(No symbol) [0x00007FF63CE2E5B2]\n\t(No symbol) [0x00007FF63CE1EE13]\n\tBaseThreadInitThunk [0x00007FF9B7DF257D+29]\n\tRtlUserThreadStart [0x00007FF9B900AA68+40]\n"
     ]
    }
   ],
   "source": [
    "soups=[]\n",
    "i=1\n",
    "driver = Chrome()\n",
    "for x in products:\n",
    "    i=1\n",
    "    while (i <5 ):\n",
    "        print(\"hi\")\n",
    "        url = f'https://www.flipkart.com/search?q={x}&page={i}'\n",
    "        driver.get(url)\n",
    "        soup=BeautifulSoup(driver.page_source,'lxml')\n",
    "        soups.append(soup)\n",
    "        i+=1\n",
    "\n",
    "\n",
    "\n",
    "driver.quit()"
   ]
  },
  {
   "cell_type": "code",
   "execution_count": 25,
   "metadata": {},
   "outputs": [],
   "source": [
    "def extradetail(product):\n",
    "        product_name=product.find('a',{'class':'s1Q9rs'}).text \n",
    "        try:\n",
    "                product_company=product.find('div',{'class':'_3Djpdu'}).text    \n",
    "        except:\n",
    "                product_company='NA'\n",
    "        try:\n",
    "                price=product.find('div',{'class':'_3LWZlK'}).text   \n",
    "        except:\n",
    "                price='NA'\n",
    "                \n",
    "        \n",
    "        try:\n",
    "                rating=product.find('div',{'class':'_3LWZlK'}).text      \n",
    "        except:\n",
    "                rating='NA'\n",
    "        product_image=product.find('img',{'class':'_396cs4'})['src']\n",
    "        # print( f'product_name{product_name},product_company{product_company},price{price},rating{rating},image{product_image}')\n",
    "        dict_list={'product_name':product_name,'product_company':product_company,'price':price,'rating':rating,'image':product_image}\n",
    "        return dict_list"
   ]
  },
  {
   "cell_type": "code",
   "execution_count": 26,
   "metadata": {},
   "outputs": [
    {
     "name": "stdout",
     "output_type": "stream",
     "text": [
      "Data saved to products_data_2.json\n"
     ]
    }
   ],
   "source": [
    "import json\n",
    "file_path = \"products_data_2.json\" \n",
    "data_dict_list=[]\n",
    "\n",
    "for soup in soups:\n",
    "    products=soup.find_all('div',{'class':'_4ddWXP'})\n",
    "    for product in products:\n",
    "            data_dict_list.append(extradetail(product))\n",
    "            \n",
    "    \n",
    "with open(file_path, \"w\") as json_file:\n",
    "    json.dump(data_dict_list, json_file)\n",
    "\n",
    "print(f\"Data saved to {file_path}\")"
   ]
  },
  {
   "cell_type": "code",
   "execution_count": 27,
   "metadata": {},
   "outputs": [
    {
     "data": {
      "text/plain": [
       "320"
      ]
     },
     "execution_count": 27,
     "metadata": {},
     "output_type": "execute_result"
    }
   ],
   "source": [
    "len(data_dict_list) "
   ]
  }
 ],
 "metadata": {
  "kernelspec": {
   "display_name": "Python 3",
   "language": "python",
   "name": "python3"
  },
  "language_info": {
   "codemirror_mode": {
    "name": "ipython",
    "version": 3
   },
   "file_extension": ".py",
   "mimetype": "text/x-python",
   "name": "python",
   "nbconvert_exporter": "python",
   "pygments_lexer": "ipython3",
   "version": "3.11.3"
  }
 },
 "nbformat": 4,
 "nbformat_minor": 2
}

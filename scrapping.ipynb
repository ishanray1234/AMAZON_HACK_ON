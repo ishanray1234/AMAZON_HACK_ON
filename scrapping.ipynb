{
 "cells": [
  {
   "cell_type": "code",
   "execution_count": 14,
   "metadata": {},
   "outputs": [],
   "source": [
    "from selenium.webdriver import Chrome \n",
    "from selenium.webdriver.chrome.options import Options\n",
    "from selenium.webdriver.common.by import By\n",
    "from selenium.webdriver.common.by import By\n",
    "from selenium.webdriver.support.ui import WebDriverWait\n",
    "from selenium.webdriver.support import expected_conditions as EC\n",
    "import time"
   ]
  },
  {
   "cell_type": "code",
   "execution_count": 15,
   "metadata": {},
   "outputs": [],
   "source": [
    "import requests\n",
    "from bs4 import BeautifulSoup\n",
    "from fake_useragent import UserAgent  # fake user agent library\n"
   ]
  },
  {
   "cell_type": "code",
   "execution_count": 16,
   "metadata": {},
   "outputs": [],
   "source": [
    "products = [\n",
    "    \"Laptop\",\n",
    "    \"Furniture\",\n",
    "    \"Phone\",\n",
    "    \"Shirt\",\n",
    "    \"Shoes\",\n",
    "    \"Refrigerator\",\n",
    "    \"Headphones\",\n",
    "    \"Jeans\",\n",
    "    \"Watch\",\n",
    "    \"Camera\",\n",
    "    \"Books\",\n",
    "    \"Coffee Maker\",\n",
    "    \"Backpack\",\n",
    "    \"Gaming Console\",\n",
    "    \"Sunglasses\",\n",
    "    \"Cookware Set\",\n",
    "    \"Fitness Tracker\",\n",
    "    \"Jewelry\",\n",
    "    \"Toys\",\n",
    "    \"Guitar\",\n",
    "    \"Dress\",\n",
    "    \"Vacuum Cleaner\",\n",
    "    \"Hiking Boots\",\n",
    "    \"Smart Speaker\"\n",
    "]"
   ]
  },
  {
   "cell_type": "code",
   "execution_count": 17,
   "metadata": {},
   "outputs": [
    {
     "name": "stdout",
     "output_type": "stream",
     "text": [
      "hi\n",
      "hi\n",
      "hi\n",
      "hi\n",
      "hi\n",
      "hi\n",
      "hi\n",
      "hi\n",
      "hi\n",
      "hi\n",
      "hi\n",
      "hi\n",
      "hi\n",
      "hi\n",
      "hi\n",
      "hi\n",
      "hi\n",
      "hi\n",
      "hi\n",
      "hi\n",
      "hi\n",
      "hi\n",
      "hi\n",
      "hi\n",
      "hi\n",
      "hi\n",
      "hi\n",
      "hi\n",
      "hi\n",
      "hi\n",
      "hi\n",
      "hi\n",
      "hi\n",
      "hi\n",
      "hi\n",
      "hi\n",
      "hi\n",
      "hi\n",
      "hi\n",
      "hi\n",
      "hi\n",
      "hi\n",
      "hi\n",
      "hi\n",
      "hi\n",
      "hi\n",
      "hi\n",
      "hi\n",
      "hi\n",
      "hi\n",
      "hi\n",
      "hi\n",
      "hi\n",
      "hi\n",
      "hi\n",
      "hi\n",
      "hi\n",
      "hi\n",
      "hi\n",
      "hi\n",
      "hi\n",
      "hi\n",
      "hi\n",
      "hi\n",
      "hi\n",
      "hi\n",
      "hi\n",
      "hi\n",
      "hi\n",
      "hi\n",
      "hi\n",
      "hi\n",
      "hi\n",
      "hi\n",
      "hi\n",
      "hi\n",
      "hi\n",
      "hi\n",
      "hi\n",
      "hi\n",
      "hi\n",
      "hi\n",
      "hi\n",
      "hi\n",
      "hi\n",
      "hi\n",
      "hi\n",
      "hi\n",
      "hi\n",
      "hi\n",
      "hi\n",
      "hi\n",
      "hi\n",
      "hi\n",
      "hi\n",
      "hi\n"
     ]
    }
   ],
   "source": [
    "soups=[]\n",
    "# i=1\n",
    "driver = Chrome()\n",
    "for x in products:\n",
    "    i=1\n",
    "    while (i <5 ):\n",
    "        print(\"hi\")\n",
    "        url = f'https://www.flipkart.com/search?q={x}&page={i}'\n",
    "        driver.get(url)\n",
    "        soup=BeautifulSoup(driver.page_source,'lxml')\n",
    "        soups.append(soup)\n",
    "        i+=1\n",
    "\n",
    "driver.quit()"
   ]
  },
  {
   "cell_type": "code",
   "execution_count": 18,
   "metadata": {},
   "outputs": [],
   "source": [
    "def extradetail(product):\n",
    "        product_name=product.find('div',{'class':'_4rR01T'}).text\n",
    "        product_desc=product.find('ul',{'class':'_1xgFaf'}).text\n",
    "        price=product.find('div',{'class':'_30jeq3 _1_WHN1'}).text\n",
    "        try:\n",
    "                rating=product.find('div',{'class':'_3LWZlK'}).text\n",
    "        except:\n",
    "                rating='NA'\n",
    "        product_image=product.find('div',{'class':'CXW8mj'}).img['src']\n",
    "        dict_list={'product_name':product_name,'description':product_desc,'price':price,'rating':rating,'image':product_image}\n",
    "        return dict_list"
   ]
  },
  {
   "cell_type": "code",
   "execution_count": 19,
   "metadata": {},
   "outputs": [
    {
     "name": "stdout",
     "output_type": "stream",
     "text": [
      "Data saved to products_data.json\n"
     ]
    }
   ],
   "source": [
    "import json\n",
    "file_path = \"products_data_2.json\" \n",
    "data_dict_list=[]\n",
    "\n",
    "for soup in soups:\n",
    "    products=soup.find_all('div',{'class':'_2kHMtA'})\n",
    "    for product in products:\n",
    "        try:\n",
    "            product_name=product.find('div',{'class':'_4rR01T'}).text\n",
    "            data_dict_list.append(extradetail(product))\n",
    "        except:\n",
    "            continue\n",
    "with open(file_path, \"w\") as json_file:\n",
    "    json.dump(data_dict_list, json_file)\n",
    "\n",
    "print(f\"Data saved to {file_path}\")"
   ]
  },
  {
   "cell_type": "code",
   "execution_count": 20,
   "metadata": {},
   "outputs": [
    {
     "data": {
      "text/plain": [
       "576"
      ]
     },
     "execution_count": 20,
     "metadata": {},
     "output_type": "execute_result"
    }
   ],
   "source": [
    "len(data_dict_list) "
   ]
  }
 ],
 "metadata": {
  "kernelspec": {
   "display_name": "Python 3",
   "language": "python",
   "name": "python3"
  },
  "language_info": {
   "codemirror_mode": {
    "name": "ipython",
    "version": 3
   },
   "file_extension": ".py",
   "mimetype": "text/x-python",
   "name": "python",
   "nbconvert_exporter": "python",
   "pygments_lexer": "ipython3",
   "version": "3.11.3"
  }
 },
 "nbformat": 4,
 "nbformat_minor": 2
}
